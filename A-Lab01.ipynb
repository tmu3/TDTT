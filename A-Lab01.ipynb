{
  "cells": [
    {
      "cell_type": "code",
      "execution_count": null,
      "metadata": {
        "colab": {
          "base_uri": "https://localhost:8080/"
        },
        "id": "UW7jqk9kAx9M",
        "outputId": "24de3366-5ced-45f9-883f-4827f6930028"
      },
      "outputs": [
        {
          "name": "stdout",
          "output_type": "stream",
          "text": [
            "Hello World!\n"
          ]
        }
      ],
      "source": [
        "#W2A1\n",
        "print (\"Hello World!\")"
      ]
    },
    {
      "cell_type": "code",
      "execution_count": null,
      "metadata": {
        "colab": {
          "base_uri": "https://localhost:8080/"
        },
        "id": "YNY-fImNDbRE",
        "outputId": "72a6a305-8c5e-432b-a7bf-b930c7bd42bc"
      },
      "outputs": [
        {
          "name": "stdout",
          "output_type": "stream",
          "text": [
            "Tên bạn là gì? Tùng\n",
            "Xin chào Tùng\n"
          ]
        }
      ],
      "source": [
        "#W2A2\n",
        "name = input (\"Tên bạn là gì? \")\n",
        "print (f\"Xin chào {name}\")"
      ]
    },
    {
      "cell_type": "code",
      "execution_count": 4,
      "metadata": {
        "colab": {
          "base_uri": "https://localhost:8080/"
        },
        "id": "9jrxET2w_QYv",
        "outputId": "d80878bb-3e11-4121-8f86-12fcbd875487"
      },
      "outputs": [
        {
          "name": "stdout",
          "output_type": "stream",
          "text": [
            "Nhập 2 số nguyên a, b: 9 4\n",
            "13\n",
            "5\n",
            "36\n",
            "2\n",
            "1\n",
            "2.25\n"
          ]
        }
      ],
      "source": [
        "#W2A3\n",
        "a, b = input(\"Nhập 2 số nguyên a, b: \").split()\n",
        "a = int (a)\n",
        "b = int (b)\n",
        "print (a + b)\n",
        "print (a - b)\n",
        "print (a * b)\n",
        "print (a // b)\n",
        "print (a % b)\n",
        "print (a / b)"
      ]
    },
    {
      "cell_type": "code",
      "execution_count": 7,
      "metadata": {
        "colab": {
          "base_uri": "https://localhost:8080/"
        },
        "id": "T9HevcPo_g2-",
        "outputId": "89547bd8-f3b5-4041-ec19-f11ce3882285"
      },
      "outputs": [
        {
          "name": "stdout",
          "output_type": "stream",
          "text": [
            "Nhập 6 đầu điểm: 9 8 7 10 8 7\n",
            "Điểm trung bình:  8.1\n"
          ]
        }
      ],
      "source": [
        "#W2A4\n",
        "a1, b1, c1, a2, b2, a3 = map(int,input(\"Nhập 6 đầu điểm: \").split())\n",
        "print (\"Điểm trung bình: \", ((a1 + b1 + c1) + (a2 + b2)*2 + a3*3)/10 )"
      ]
    },
    {
      "cell_type": "code",
      "execution_count": 9,
      "metadata": {
        "colab": {
          "base_uri": "https://localhost:8080/"
        },
        "id": "8OCI6RsEBlRW",
        "outputId": "2cbfc72f-9a2d-4063-a193-55375b41db87"
      },
      "outputs": [
        {
          "name": "stdout",
          "output_type": "stream",
          "text": [
            "Nhập 2 số nguyên a, b: 2 3\n",
            "8\n"
          ]
        }
      ],
      "source": [
        "#W2A5\n",
        "a, b = map(int,input(\"Nhập 2 số nguyên a, b: \").split())\n",
        "print (a ** b)"
      ]
    },
    {
      "cell_type": "code",
      "execution_count": 41,
      "metadata": {
        "colab": {
          "base_uri": "https://localhost:8080/"
        },
        "id": "UkZubkmPCtll",
        "outputId": "42bc69b6-7f00-4aa4-a807-45ff3859155b"
      },
      "outputs": [
        {
          "name": "stdout",
          "output_type": "stream",
          "text": [
            "Nhập chữ cái thường: a\n",
            "A\n"
          ]
        }
      ],
      "source": [
        "#W2A6\n",
        "x = input(\"Nhập chữ cái thường: \")\n",
        "X = ord(x) - 32\n",
        "print (chr(X))"
      ]
    },
    {
      "cell_type": "code",
      "execution_count": 14,
      "metadata": {
        "colab": {
          "base_uri": "https://localhost:8080/"
        },
        "id": "Sh7nDuNHGxYK",
        "outputId": "6ccff409-c94d-43f2-d95b-03c015834876"
      },
      "outputs": [
        {
          "name": "stdout",
          "output_type": "stream",
          "text": [
            "A =  512\n",
            "B =  4826814\n"
          ]
        }
      ],
      "source": [
        "#W2A7\n",
        "print (\"A = \", ((13**2)*3) + 5)\n",
        "print (\"B = \", 13**(2*3) + 5)"
      ]
    },
    {
      "cell_type": "code",
      "execution_count": null,
      "metadata": {
        "colab": {
          "base_uri": "https://localhost:8080/"
        },
        "id": "Q-KiCWkrHmAh",
        "outputId": "cb429dc4-4e3d-4093-ae3d-f1c26a8b4a38"
      },
      "outputs": [
        {
          "ename": "",
          "evalue": "",
          "output_type": "error",
          "traceback": [
            "\u001b[1;31mRunning cells with 'Python 3.13.0' requires the ipykernel package.\n",
            "\u001b[1;31m<a href='command:jupyter.createPythonEnvAndSelectController'>Create a Python Environment</a> with the required packages.\n",
            "\u001b[1;31mOr install 'ipykernel' using the command: '\"c:/Users/TCC HELLO/AppData/Local/Programs/Python/Python313/python.exe\" -m pip install ipykernel -U --user --force-reinstall'"
          ]
        }
      ],
      "source": [
        "#W2A8\n",
        "C = float(input(\"Nhâp độ C: \"))\n",
        "print (\"Độ F = \", round(9/5*C + 32,2))"
      ]
    },
    {
      "cell_type": "code",
      "execution_count": null,
      "metadata": {
        "colab": {
          "base_uri": "https://localhost:8080/"
        },
        "id": "gMf8IOPNJBbh",
        "outputId": "c6b73f6d-ca03-47d6-df90-f0dfe2e5c18d"
      },
      "outputs": [
        {
          "name": "stdout",
          "output_type": "stream",
          "text": [
            "Nhập giá đòng hồ: 277\n",
            "Tổng giá tiền:  397.8\n"
          ]
        }
      ],
      "source": [
        "#W2A9\n",
        "x = float(input(\"Nhập giá đòng hồ: \"))\n",
        "print (\"Tổng giá tiền: \", round(x*1.4 + 10,2))"
      ]
    },
    {
      "cell_type": "code",
      "execution_count": null,
      "metadata": {
        "colab": {
          "base_uri": "https://localhost:8080/"
        },
        "id": "4Z138w4GEM4v",
        "outputId": "2ff04420-e1b5-4505-cc14-3944d2fd4e33"
      },
      "outputs": [
        {
          "name": "stdout",
          "output_type": "stream",
          "text": [
            "Tên 3 bạn là gì? An Bình Chi\n",
            "Hi Chi , Bình and An\n"
          ]
        }
      ],
      "source": [
        "#W2A10\n",
        "a, b, c = input (\"Tên 3 bạn là gì? \").split()\n",
        "print (\"Hi\", c, \",\", b, \"and\", a)"
      ]
    },
    {
      "cell_type": "code",
      "execution_count": 31,
      "metadata": {
        "colab": {
          "base_uri": "https://localhost:8080/"
        },
        "id": "tS-g72oOMPJA",
        "outputId": "169151ab-ec4e-4edc-d7a5-3dc847524411"
      },
      "outputs": [
        {
          "name": "stdout",
          "output_type": "stream",
          "text": [
            "Nhập số giờ và phút: 3 47\n",
            "Số giây:  13620\n"
          ]
        }
      ],
      "source": [
        "#W2A11\n",
        "a, b = map(int,input(\"Nhập số giờ và phút: \").split())\n",
        "print (\"Số giây: \", a*3600 + b*60)"
      ]
    },
    {
      "cell_type": "code",
      "execution_count": 32,
      "metadata": {
        "colab": {
          "base_uri": "https://localhost:8080/"
        },
        "id": "3eTawsCjMqvR",
        "outputId": "e18c2ba3-19e3-4a9f-c47a-b9228bb70739"
      },
      "outputs": [
        {
          "name": "stdout",
          "output_type": "stream",
          "text": [
            "Nhập số cạnh rubik: 3\n",
            "Số miếng dán:  54\n"
          ]
        }
      ],
      "source": [
        "#W2A12\n",
        "x = int(input(\"Nhập số cạnh rubik: \"))\n",
        "print (\"Số miếng dán: \", x**2*6)"
      ]
    },
    {
      "cell_type": "code",
      "execution_count": 33,
      "metadata": {
        "colab": {
          "base_uri": "https://localhost:8080/"
        },
        "id": "RPdJS3R5NDDo",
        "outputId": "e24ce94f-6b7f-412b-e4a9-7d20adc5cd1d"
      },
      "outputs": [
        {
          "name": "stdout",
          "output_type": "stream",
          "text": [
            "Nhập 2 số nguyên a, b: 6 7\n",
            "Chữ số hàng đơn vị của tích a.b:  2\n"
          ]
        }
      ],
      "source": [
        "#W2A13\n",
        "a, b = map(int,input(\"Nhập 2 số nguyên a, b: \").split())\n",
        "print (\"Chữ số hàng đơn vị của tích a.b: \", a*b % 10)"
      ]
    },
    {
      "cell_type": "code",
      "execution_count": 34,
      "metadata": {
        "colab": {
          "base_uri": "https://localhost:8080/"
        },
        "id": "dbhe4JXMNhIo",
        "outputId": "6a038dab-5ed5-4a2b-914d-1893d717ac72"
      },
      "outputs": [
        {
          "name": "stdout",
          "output_type": "stream",
          "text": [
            "Nhập 2 số nguyên a, b: 3 4\n",
            "4 3\n"
          ]
        }
      ],
      "source": [
        "#W2A14\n",
        "a, b = map(int,input(\"Nhập 2 số nguyên a, b: \").split())\n",
        "a, b = b, a\n",
        "print (a, b)"
      ]
    },
    {
      "cell_type": "code",
      "execution_count": 38,
      "metadata": {
        "colab": {
          "base_uri": "https://localhost:8080/"
        },
        "id": "y3wye3oxOp3w",
        "outputId": "94eadf88-915b-46ed-abdb-ead2ae6eb9e7"
      },
      "outputs": [
        {
          "name": "stdout",
          "output_type": "stream",
          "text": [
            "Nhập số nguyên dương n: 4\n",
            "Số sao thứ n:  73\n"
          ]
        }
      ],
      "source": [
        "#W2A15\n",
        "n = int(input(\"Nhập số nguyên dương n: \"))\n",
        "print (\"Số sao thứ n: \", 6*n*(n-1) + 1)"
      ]
    },
    {
      "cell_type": "code",
      "execution_count": null,
      "metadata": {
        "colab": {
          "base_uri": "https://localhost:8080/"
        },
        "id": "jAlCZVZKFf44",
        "outputId": "02a88fa1-7b89-4fa0-d551-2e04a1690371"
      },
      "outputs": [
        {
          "name": "stdout",
          "output_type": "stream",
          "text": [
            "Spring\n",
            "Summer\n",
            "Autumn\n",
            "Winter\n"
          ]
        }
      ],
      "source": [
        "#W2A16\n",
        "print (\"Spring\\nSummer\\nAutumn\\nWinter\")"
      ]
    },
    {
      "cell_type": "code",
      "execution_count": null,
      "metadata": {
        "colab": {
          "base_uri": "https://localhost:8080/"
        },
        "id": "BKsMKpEyF44O",
        "outputId": "d75334be-8422-4458-b28f-6739c3a72dfd"
      },
      "outputs": [
        {
          "name": "stdout",
          "output_type": "stream",
          "text": [
            "*\n",
            "***\n",
            "*****\n"
          ]
        }
      ],
      "source": [
        "#W2A17\n",
        "for i in range (1,6,2):\n",
        "  print (\"*\"*i)"
      ]
    },
    {
      "cell_type": "code",
      "execution_count": null,
      "metadata": {
        "colab": {
          "base_uri": "https://localhost:8080/"
        },
        "id": "QRZLaWjjJeRM",
        "outputId": "b38974a5-7ebc-400e-aefb-6cde9c116c72"
      },
      "outputs": [
        {
          "name": "stdout",
          "output_type": "stream",
          "text": [
            "### # #   ### ###\n",
            " #  #  #   #   # \n",
            " #  #   #  #   # \n",
            " #  #  #   #   # \n",
            " #  # #    #   # \n"
          ]
        }
      ],
      "source": [
        "#W2A18\n",
        "print (\"### # #   ### ###\")\n",
        "print (\" #  #  #   #   # \")\n",
        "print (\" #  #   #  #   # \")\n",
        "print (\" #  #  #   #   # \")\n",
        "print (\" #  # #    #   # \")"
      ]
    },
    {
      "cell_type": "code",
      "execution_count": null,
      "metadata": {
        "colab": {
          "base_uri": "https://localhost:8080/"
        },
        "id": "yw9qa-ecKCi-",
        "outputId": "6e901d33-aa65-4202-ba83-8c830004bd4b"
      },
      "outputs": [
        {
          "name": "stdout",
          "output_type": "stream",
          "text": [
            "Monday\n",
            "Tuesday\n",
            "Wednesday\n",
            "Thursday\n",
            "Friday\n",
            "Saturday\n",
            "Sunday\n"
          ]
        }
      ],
      "source": [
        "#W2A19\n",
        "print (\"Monday\\nTuesday\\nWednesday\\nThursday\\nFriday\\nSaturday\\nSunday\")"
      ]
    },
    {
      "cell_type": "code",
      "execution_count": null,
      "metadata": {
        "colab": {
          "base_uri": "https://localhost:8080/"
        },
        "id": "F9GGhdMkKYn7",
        "outputId": "bfafbecd-09fb-4a66-85bb-8087e8e44e41"
      },
      "outputs": [
        {
          "name": "stdout",
          "output_type": "stream",
          "text": [
            "January\n",
            "February\n",
            "March\n",
            "April\n",
            "May\n",
            "June\n",
            "July\n",
            "August\n",
            "September\n",
            "October\n",
            "November\n",
            "December\n"
          ]
        }
      ],
      "source": [
        "#W2A20\n",
        "print (\"January\\nFebruary\\nMarch\\nApril\\nMay\\nJune\\nJuly\\nAugust\\nSeptember\\nOctober\\nNovember\\nDecember\")"
      ]
    },
    {
      "cell_type": "code",
      "execution_count": null,
      "metadata": {
        "colab": {
          "base_uri": "https://localhost:8080/"
        },
        "id": "HNH1pQ_KK0tt",
        "outputId": "457a8151-acf7-40bd-809d-444245fe840a"
      },
      "outputs": [
        {
          "name": "stdout",
          "output_type": "stream",
          "text": [
            "Hello, world\n",
            "Hello, world\n",
            "Hello, world\n",
            "Hello, world\n",
            "Hello, world\n",
            "Hello, world\n",
            "Hello, world\n",
            "Hello, world\n",
            "Hello, world\n",
            "Hello, world\n",
            "\n"
          ]
        }
      ],
      "source": [
        "#W2A21\n",
        "print (\"Hello, world\\n\"*10)"
      ]
    }
  ],
  "metadata": {
    "colab": {
      "provenance": []
    },
    "kernelspec": {
      "display_name": "Python 3",
      "name": "python3"
    },
    "language_info": {
      "name": "python",
      "version": "3.13.0"
    }
  },
  "nbformat": 4,
  "nbformat_minor": 0
}
