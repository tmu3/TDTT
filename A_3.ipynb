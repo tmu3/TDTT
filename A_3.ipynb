{
  "nbformat": 4,
  "nbformat_minor": 0,
  "metadata": {
    "colab": {
      "provenance": []
    },
    "kernelspec": {
      "name": "python3",
      "display_name": "Python 3"
    },
    "language_info": {
      "name": "python"
    }
  },
  "cells": [
    {
      "cell_type": "code",
      "execution_count": null,
      "metadata": {
        "colab": {
          "base_uri": "https://localhost:8080/"
        },
        "id": "Fny-b_fPSLeX",
        "outputId": "a5e7b00a-61f4-442c-c980-e034f7fb5887"
      },
      "outputs": [
        {
          "output_type": "stream",
          "name": "stdout",
          "text": [
            "Nhập số nguyên dương n: 345\n",
            "Số đảo ngược của n:  543\n"
          ]
        }
      ],
      "source": [
        "#1\n",
        "n = input(\"Nhập số nguyên dương n: \")\n",
        "print (\"Số đảo ngược của n: \", n[::-1])"
      ]
    },
    {
      "cell_type": "code",
      "source": [
        "#2\n",
        "a, b = map(int,input(\"Nhập 2 số a, b: \").split())\n",
        "a = a ^ b\n",
        "b = a ^ b\n",
        "a = a ^ b\n",
        "print (a, b)"
      ],
      "metadata": {
        "colab": {
          "base_uri": "https://localhost:8080/"
        },
        "id": "Ta2Oco5Qcj2P",
        "outputId": "83d89f81-6c58-4450-ddc1-4c4fa269179f"
      },
      "execution_count": null,
      "outputs": [
        {
          "output_type": "stream",
          "name": "stdout",
          "text": [
            "Nhập 2 số a, b: 5 6\n",
            "6 5\n"
          ]
        }
      ]
    },
    {
      "cell_type": "code",
      "source": [
        "#3\n",
        "n = int(input(\"Nhập số nguyên dương n: \"))\n",
        "if n & (n - 1) == 0:\n",
        "  print (True)\n",
        "else:\n",
        "  print (False)"
      ],
      "metadata": {
        "colab": {
          "base_uri": "https://localhost:8080/"
        },
        "id": "B1wMgkADdvf4",
        "outputId": "fe23ce92-beff-423c-df19-4812ac14903d"
      },
      "execution_count": null,
      "outputs": [
        {
          "output_type": "stream",
          "name": "stdout",
          "text": [
            "Nhập số nguyên dương n: 64\n",
            "True\n"
          ]
        }
      ]
    },
    {
      "cell_type": "code",
      "source": [
        "#4\n",
        "m, n = map(int,input(\"Nhập số nguyên dương m: \").split())\n",
        "print (m // n)"
      ],
      "metadata": {
        "id": "BjZvjy0VgRBn",
        "colab": {
          "base_uri": "https://localhost:8080/"
        },
        "outputId": "f1c9b771-f044-4d35-d134-b956f89ae0ca"
      },
      "execution_count": null,
      "outputs": [
        {
          "output_type": "stream",
          "name": "stdout",
          "text": [
            "Nhập số nguyên dương m: 7553 764\n",
            "9\n"
          ]
        }
      ]
    },
    {
      "cell_type": "code",
      "source": [
        "#5\n",
        "m, n = map(int,input(\"Nhập số nguyên dương m, n: \").split())\n",
        "print (m // n + 1)"
      ],
      "metadata": {
        "colab": {
          "base_uri": "https://localhost:8080/"
        },
        "id": "1CtuFiJgimIF",
        "outputId": "f0a7be5f-2e19-4deb-b294-d5da2de61b28"
      },
      "execution_count": null,
      "outputs": [
        {
          "output_type": "stream",
          "name": "stdout",
          "text": [
            "Nhập số nguyên dương m, n: 7553 764\n",
            "10\n"
          ]
        }
      ]
    },
    {
      "cell_type": "code",
      "source": [
        "#6\n",
        "x = int(input(\"Nhập số nguyên dương x: \"))\n",
        "if x % 2 == 0:\n",
        "  print (\"Even\")\n",
        "else:\n",
        "  print (\"Odd\")"
      ],
      "metadata": {
        "colab": {
          "base_uri": "https://localhost:8080/"
        },
        "id": "phwtSXPqi3TV",
        "outputId": "6307638d-b95b-46e6-cda5-daaab6f05229"
      },
      "execution_count": null,
      "outputs": [
        {
          "output_type": "stream",
          "name": "stdout",
          "text": [
            "Nhập số nguyên dương x: 5\n",
            "Odd\n"
          ]
        }
      ]
    },
    {
      "cell_type": "code",
      "source": [
        "#7\n",
        "a, b = map(int,input(\"Nhập 2 số nguyên a, b: \").split())\n",
        "if a < 0 and b < 0:\n",
        "  print (\"Yes\")\n",
        "else:\n",
        "  print (\"No\")"
      ],
      "metadata": {
        "colab": {
          "base_uri": "https://localhost:8080/"
        },
        "id": "UZGc7DvhjRUm",
        "outputId": "d485fb8f-d309-4b7e-d0f0-bba0490dd4ed"
      },
      "execution_count": null,
      "outputs": [
        {
          "output_type": "stream",
          "name": "stdout",
          "text": [
            "Nhập 2 số nguyên a, b: -4 5\n",
            "No\n"
          ]
        }
      ]
    },
    {
      "cell_type": "code",
      "source": [
        "#8\n",
        "a, b = input(\"Nhập 2 chữ cái: \").split()\n",
        "if len(a) > len(b):\n",
        "  print (\"True\")\n",
        "else:\n",
        "  print (\"False\")"
      ],
      "metadata": {
        "colab": {
          "base_uri": "https://localhost:8080/"
        },
        "id": "_FpS00Yij3md",
        "outputId": "78b543d1-e74a-4d1d-ba37-a360d0bc1144"
      },
      "execution_count": null,
      "outputs": [
        {
          "output_type": "stream",
          "name": "stdout",
          "text": [
            "Nhập 2 chữ cái: mouse dog\n",
            "True\n"
          ]
        }
      ]
    },
    {
      "cell_type": "code",
      "source": [
        "#9\n",
        "a, b, c = map(int,input(\"Nhập 3 số nguyên dương a, b, c: \").split())\n",
        "if a + b > c and b + c > a and c + a > b:\n",
        "  print (\"Yes\")\n",
        "else:\n",
        "  print (\"No\")"
      ],
      "metadata": {
        "colab": {
          "base_uri": "https://localhost:8080/"
        },
        "id": "tjD8TuoQk3kd",
        "outputId": "2c1efa6e-12bf-4139-b2aa-28f54703faae"
      },
      "execution_count": null,
      "outputs": [
        {
          "output_type": "stream",
          "name": "stdout",
          "text": [
            "Nhập 3 số nguyên dương a, b, c: 1 2 3\n",
            "No\n"
          ]
        }
      ]
    },
    {
      "cell_type": "code",
      "source": [
        "#10\n",
        "a, b, c, d = map(int,input(\"Nhập 4 số nguyên dương a, b, c, d: \").split())\n",
        "max = 0\n",
        "if a > max:\n",
        "  max = a\n",
        "if b > max:\n",
        "  max = b\n",
        "if c > max:\n",
        "  max = c\n",
        "if d > max:\n",
        "  max = d\n",
        "print (max)"
      ],
      "metadata": {
        "colab": {
          "base_uri": "https://localhost:8080/"
        },
        "id": "4djVqmB9lZ0d",
        "outputId": "570327e2-56a6-47c3-f623-fc05ea5e578e"
      },
      "execution_count": null,
      "outputs": [
        {
          "output_type": "stream",
          "name": "stdout",
          "text": [
            "Nhập 4 số nguyên dương a, b, c, d: 1 2 4 3\n",
            "4\n"
          ]
        }
      ]
    },
    {
      "cell_type": "code",
      "source": [
        "#11\n",
        "a, b, c = map(int,input(\"Nhập 3 số nguyên dương a, b, c: \").split())\n",
        "if a + b > c and b + c > a and c + a > b:\n",
        "  if a == b and b == c:\n",
        "    print (\"Tam giác đều\")\n",
        "  elif a == b or b == c or c == a:\n",
        "    print (\"Tam giác cân\")\n",
        "  else:\n",
        "    print (\"Tam giác thường\")\n",
        "else:\n",
        "  print (\"Không phải tam giác\")"
      ],
      "metadata": {
        "colab": {
          "base_uri": "https://localhost:8080/"
        },
        "id": "6REzR9VFl1Pt",
        "outputId": "5de8821d-2e6c-4f0b-8bc7-d8b3bb2c9e2a"
      },
      "execution_count": null,
      "outputs": [
        {
          "output_type": "stream",
          "name": "stdout",
          "text": [
            "Nhập 3 số nguyên dương a, b, c: 3 3 4\n",
            "Tam giác cân\n"
          ]
        }
      ]
    },
    {
      "cell_type": "code",
      "source": [
        "#12\n",
        "n = int(input(\"Nhập năm: \"))\n",
        "if n % 400 == 0:\n",
        "  print (\"Yes\")\n",
        "elif n % 4 == 0 and n % 100 != 0:\n",
        "  print (\"Yes\")\n",
        "else:\n",
        "  print (\"No\")"
      ],
      "metadata": {
        "colab": {
          "base_uri": "https://localhost:8080/"
        },
        "id": "K0fImToLmcGd",
        "outputId": "46667841-e30e-4f8b-b9a2-3b576b0069e8"
      },
      "execution_count": null,
      "outputs": [
        {
          "output_type": "stream",
          "name": "stdout",
          "text": [
            "Nhập năm: 1900\n",
            "No\n"
          ]
        }
      ]
    },
    {
      "cell_type": "code",
      "source": [
        "#13\n",
        "x = int(input(\"Nhập số kWh điện tiêu thụ: \"))\n",
        "if 0 <= x <= 50:\n",
        "  print (\"Tiền điện: \", x*1500, \"đ\")\n",
        "elif 51 <= x <= 100:\n",
        "  print (\"Tiền điện: \", 50*1500 + (x - 50)*2000, \"đ\")\n",
        "elif 100 <= x:\n",
        "  print (\"Tiền điện: \", 50*1500 + 50*2000 + (x - 100)*3000, \"đ\")"
      ],
      "metadata": {
        "colab": {
          "base_uri": "https://localhost:8080/"
        },
        "id": "w_O6saNxo15d",
        "outputId": "06999bce-80ed-421b-bfc9-c1b264a8e94c"
      },
      "execution_count": null,
      "outputs": [
        {
          "output_type": "stream",
          "name": "stdout",
          "text": [
            "Nhập số kWh điện tiêu thụ: 120\n",
            "Tiền điện:  235000 đ\n"
          ]
        }
      ]
    },
    {
      "cell_type": "code",
      "source": [
        "#14\n",
        "a, b = map(float,input(\"Nhập 2 số a, b: \").split())\n",
        "if a == 0 and b == 0:\n",
        "  print (\"Vô số nghiệm\")\n",
        "elif a == 0:\n",
        "  print (\"Vô nghiệm\")\n",
        "else:\n",
        "  print (\"Phương trình có 1 nghiệm x = \", round(-b/a,2))"
      ],
      "metadata": {
        "id": "ndqFP3TxqRXu",
        "colab": {
          "base_uri": "https://localhost:8080/"
        },
        "outputId": "5ddb8819-cc40-4961-9593-6b0bf4aed1c9"
      },
      "execution_count": 44,
      "outputs": [
        {
          "output_type": "stream",
          "name": "stdout",
          "text": [
            "Nhập 2 số a, b: 3 -1\n",
            "Phương trình có 1 nghiệm x =  0.33\n"
          ]
        }
      ]
    },
    {
      "cell_type": "code",
      "source": [
        "#15\n",
        "n = float(input(\"Nhập điểm trung bình: \"))\n",
        "if n >= 8:\n",
        "  print (\"Giỏi\")\n",
        "elif 6 <= n < 8:\n",
        "  print (\"Khá\")\n",
        "elif 5 <= n < 6:\n",
        "  print (\"Trung bình\")\n",
        "else:\n",
        "  print (\"Yếu\")"
      ],
      "metadata": {
        "colab": {
          "base_uri": "https://localhost:8080/"
        },
        "id": "FKfxvk4Zu1Ej",
        "outputId": "838a7d08-441a-413c-c9b3-b387658de6a2"
      },
      "execution_count": 49,
      "outputs": [
        {
          "output_type": "stream",
          "name": "stdout",
          "text": [
            "Nhập điểm trung bình: 9.8\n",
            "Giỏi\n"
          ]
        }
      ]
    },
    {
      "cell_type": "code",
      "source": [
        "#16\n",
        "n = float(input(\"Nhập số n: \"))\n",
        "if n == int(n):\n",
        "  n = int(n)\n",
        "  print (n, n, n)\n",
        "else:\n",
        "  print (round(n // 1 + 1), round(n // 1), round (n))"
      ],
      "metadata": {
        "colab": {
          "base_uri": "https://localhost:8080/"
        },
        "id": "rHGHn8c5vshU",
        "outputId": "4e9e873f-b081-49dd-b33e-0721276e9bf5"
      },
      "execution_count": 58,
      "outputs": [
        {
          "output_type": "stream",
          "name": "stdout",
          "text": [
            "Nhập số n: 8.2\n",
            "9 8 8\n"
          ]
        }
      ]
    }
  ]
}