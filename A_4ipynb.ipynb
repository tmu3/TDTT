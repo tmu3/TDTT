{
  "nbformat": 4,
  "nbformat_minor": 0,
  "metadata": {
    "colab": {
      "provenance": []
    },
    "kernelspec": {
      "name": "python3",
      "display_name": "Python 3"
    },
    "language_info": {
      "name": "python"
    }
  },
  "cells": [
    {
      "cell_type": "code",
      "execution_count": null,
      "metadata": {
        "colab": {
          "base_uri": "https://localhost:8080/"
        },
        "id": "8rm-dyQ3_7O5",
        "outputId": "787d0b25-cb3d-4567-9d7c-ccbb410bcd30"
      },
      "outputs": [
        {
          "output_type": "stream",
          "name": "stdout",
          "text": [
            "Nhập số nguyên n: 100\n",
            "Tổng các số nguyên từ 1 đến 100 là: 5050\n"
          ]
        }
      ],
      "source": [
        "#W4A1\n",
        "n = int(input(\"Nhập số nguyên n: \"))\n",
        "sum = 0\n",
        "\n",
        "for i in range(1, n + 1):\n",
        "    sum += i\n",
        "\n",
        "print(\"Tổng các số nguyên từ 1 đến\", n, \"là:\", sum)"
      ]
    },
    {
      "cell_type": "code",
      "source": [
        "#W4A2\n",
        "n = int(input(\"Nhập số nguyên n: \"))\n",
        "\n",
        "if n < 2:\n",
        "  print (\"False\")\n",
        "elif n == 2:\n",
        "  print (\"True\")\n",
        "else:\n",
        "  for i in range (2, n):\n",
        "    if n % i == 0:\n",
        "      print (\"False\")\n",
        "      break\n",
        "    else:\n",
        "      print (\"True\")"
      ],
      "metadata": {
        "colab": {
          "base_uri": "https://localhost:8080/"
        },
        "id": "Fq7wF0bzBT9v",
        "outputId": "5c9c5052-61e1-43b4-b4fe-e27d5ca2452f"
      },
      "execution_count": null,
      "outputs": [
        {
          "output_type": "stream",
          "name": "stdout",
          "text": [
            "Nhập số nguyên n: -5\n",
            "False\n"
          ]
        }
      ]
    },
    {
      "cell_type": "code",
      "source": [
        "#W4A3\n",
        "n = int(input(\"Nhập số nguyên n: \"))\n",
        "fac = 1\n",
        "\n",
        "for i in range(1, n + 1):\n",
        "    fac *= i\n",
        "\n",
        "print(\"Giai thừa của\", n, \"là:\", fac)"
      ],
      "metadata": {
        "colab": {
          "base_uri": "https://localhost:8080/"
        },
        "id": "ktB6WXWMi-Sz",
        "outputId": "9ce453e7-34fb-44c0-831e-cbadf052af70"
      },
      "execution_count": null,
      "outputs": [
        {
          "output_type": "stream",
          "name": "stdout",
          "text": [
            "Nhập số nguyên n: 5\n",
            "Giai thừa của 5 là: 120\n"
          ]
        }
      ]
    },
    {
      "cell_type": "code",
      "source": [
        "#W4A4\n",
        "n = int(input(\"Nhập số nguyên n: \"))\n",
        "digit = 0\n",
        "\n",
        "if n < 0:\n",
        "  n = abs(n)\n",
        "\n",
        "while n > 0:\n",
        "  digit += 1\n",
        "  n //= 10\n",
        "\n",
        "print (\"Có\", digit,\"chữ số\")"
      ],
      "metadata": {
        "colab": {
          "base_uri": "https://localhost:8080/"
        },
        "id": "s_TlmyHFqb6x",
        "outputId": "ff13f6d2-afdf-47ba-924d-1847b47476c0"
      },
      "execution_count": null,
      "outputs": [
        {
          "output_type": "stream",
          "name": "stdout",
          "text": [
            "Nhập số nguyên n: -1593\n",
            "Có 4 chữ số\n"
          ]
        }
      ]
    },
    {
      "cell_type": "code",
      "source": [
        "#W4A5\n",
        "n = input(\"Nhập số nguyên dương n: \")\n",
        "m = map(int,input(\"Nhập \" + n + \" số nguyên: \").split())\n",
        "\n",
        "if 42 in m:\n",
        "  print (\"I've found the meaning of life!\")\n",
        "else:\n",
        "  print (\"It's a joke!\")"
      ],
      "metadata": {
        "colab": {
          "base_uri": "https://localhost:8080/"
        },
        "id": "zq8o2qRQvWth",
        "outputId": "d3c12005-ca86-4f19-c6d7-ab980da90d74"
      },
      "execution_count": null,
      "outputs": [
        {
          "output_type": "stream",
          "name": "stdout",
          "text": [
            "Nhập số nguyên n: 5\n",
            "Nhập 5 số nguyên: 1 192 32 42 39\n",
            "I've found the meaning of life!\n"
          ]
        }
      ]
    },
    {
      "cell_type": "code",
      "source": [
        "#W4A6\n",
        "def snt(n):\n",
        "  if n < 2:\n",
        "    return False\n",
        "  elif n == 2:\n",
        "    return True\n",
        "  else:\n",
        "    for i in range (2, n):\n",
        "      if n % i == 0:\n",
        "        return False\n",
        "        break\n",
        "    return True\n",
        "\n",
        "a, b = map(int,input(\"Nhập 2 số nguyên dương a, b (a < b): \").split())\n",
        "sum = 0\n",
        "\n",
        "for i in range (a, b+1):\n",
        "  if snt(i):\n",
        "    sum += i\n",
        "\n",
        "print (\"Tổng các số nguyên tố trong đoạn [a, b]: \", sum)"
      ],
      "metadata": {
        "colab": {
          "base_uri": "https://localhost:8080/"
        },
        "id": "MDuD3sb4w1nB",
        "outputId": "7e203ec5-4cc5-4f21-b8c2-215d1783ba8f"
      },
      "execution_count": null,
      "outputs": [
        {
          "output_type": "stream",
          "name": "stdout",
          "text": [
            "Nhập 2 số nguyên dương a, b (a < b): 2 10\n",
            "Tổng các số nguyên tố trong đoạn [a, b]:  17\n"
          ]
        }
      ]
    },
    {
      "cell_type": "code",
      "source": [
        "#W4A7\n",
        "def snt(n):\n",
        "  if n < 2:\n",
        "    return False\n",
        "  elif n == 2:\n",
        "    return True\n",
        "  else:\n",
        "    for i in range (2, n):\n",
        "      if n % i == 0:\n",
        "        return False\n",
        "        break\n",
        "    return True\n",
        "\n",
        "n = int(input(\"Nhập số nguyên n (n >= 2): \"))\n",
        "max = 0\n",
        "\n",
        "for i in range (2, n):\n",
        "  if n % i == 0 and snt(i):\n",
        "    max = i\n",
        "\n",
        "print (\"Ước nguyên tố lớn nhất: \", max)"
      ],
      "metadata": {
        "colab": {
          "base_uri": "https://localhost:8080/"
        },
        "id": "tXZ3CQPtnyBO",
        "outputId": "d686ea6a-732d-4efd-d8fd-8729e9eab5ae"
      },
      "execution_count": 28,
      "outputs": [
        {
          "output_type": "stream",
          "name": "stdout",
          "text": [
            "Nhập số nguyên n (n >= 2): 10\n",
            "Ước nguyên tố lớn nhất:  5\n"
          ]
        }
      ]
    },
    {
      "cell_type": "code",
      "source": [
        "#W4A8\n",
        "def sdx(n):\n",
        "  return str(n) == str(n)[::-1]\n",
        "\n",
        "def sngc(n):\n",
        "  return int(str(n)[::-1])\n",
        "\n",
        "n = int(input(\"Nhập số nguyên dương n: \"))\n",
        "step = 0\n",
        "\n",
        "while not sdx(n):\n",
        "    n = n + sngc(n)\n",
        "    step += 1\n",
        "\n",
        "print (\"Số bước thực hiện:\", step)\n",
        "print (\"Số đối xứng thu được:\", n)"
      ],
      "metadata": {
        "colab": {
          "base_uri": "https://localhost:8080/"
        },
        "id": "sFem5Jc7VM98",
        "outputId": "99e8c88c-82dd-4fea-ca4f-b3da1a0ca569"
      },
      "execution_count": null,
      "outputs": [
        {
          "output_type": "stream",
          "name": "stdout",
          "text": [
            "Nhập số nguyên dương n: 56\n",
            "Số bước thực hiện: 1\n",
            "Số đối xứng thu được: 121\n"
          ]
        }
      ]
    },
    {
      "cell_type": "code",
      "source": [
        "#W4A9\n",
        "def khac_chu_so(n):\n",
        "  chuoi = str(n)\n",
        "  if len(set(chuoi)) == len(chuoi):\n",
        "    return True\n",
        "  else:\n",
        "    return False\n",
        "\n",
        "n = int(input(\"Nhập số nguyên dương n: \"))\n",
        "\n",
        "for i in range (1, n+1):\n",
        "  m = i*i\n",
        "  if m <=n and khac_chu_so(m) == True:\n",
        "    print (m, end = \" \")"
      ],
      "metadata": {
        "id": "wwy_SgZOb36M",
        "colab": {
          "base_uri": "https://localhost:8080/"
        },
        "outputId": "fc95cb61-6675-4477-d68d-ab2b0890cab9"
      },
      "execution_count": null,
      "outputs": [
        {
          "output_type": "stream",
          "name": "stdout",
          "text": [
            "Nhập số nguyên dương n: 50\n",
            "1 4 9 16 25 36 49 "
          ]
        }
      ]
    },
    {
      "cell_type": "code",
      "source": [
        "#W4A10\n",
        "def Collatz(n):\n",
        "  global step\n",
        "  step = 0\n",
        "  while n != 1:\n",
        "    if n % 2 == 0:\n",
        "      n = n // 2\n",
        "      step += 1\n",
        "    else:\n",
        "      n = 3*n + 1\n",
        "      step += 1\n",
        "\n",
        "n = int(input(\"Nhập số nguyên dương n: \"))\n",
        "x = 0\n",
        "max_step = 0\n",
        "\n",
        "for i in range (1, n+1):\n",
        "  Collatz(i)\n",
        "  if max_step < step:\n",
        "    max_step = step\n",
        "    x = i\n",
        "\n",
        "print (x,max_step + 1)"
      ],
      "metadata": {
        "colab": {
          "base_uri": "https://localhost:8080/"
        },
        "id": "LYfwmTkyJydZ",
        "outputId": "5043a46e-0eed-4f94-bf3e-56df5ce1d392"
      },
      "execution_count": 34,
      "outputs": [
        {
          "output_type": "stream",
          "name": "stdout",
          "text": [
            "Nhập số nguyên dương n: 50\n",
            "27 112\n"
          ]
        }
      ]
    },
    {
      "cell_type": "code",
      "source": [
        "#W4A11\n",
        "n = int(input(\"Nhập số nguyên dương n: \"))\n",
        "even_divisor = 0\n",
        "\n",
        "for i in range (1, n+1):\n",
        "  if n % i == 0 and i % 2 == 0:\n",
        "    even_divisor += 1\n",
        "\n",
        "print (even_divisor)"
      ],
      "metadata": {
        "colab": {
          "base_uri": "https://localhost:8080/"
        },
        "id": "yO6M8t2JU-_m",
        "outputId": "aaf371d3-eb3b-41ba-df62-93cceb5fe1c3"
      },
      "execution_count": null,
      "outputs": [
        {
          "output_type": "stream",
          "name": "stdout",
          "text": [
            "Nhập số nguyên dương n: 1994\n",
            "2\n"
          ]
        }
      ]
    },
    {
      "cell_type": "code",
      "source": [
        "#W4A12\n",
        "x = int(input(\"Nhập số tiền: \"))\n",
        "n = int(input(\"Nhập số tháng: \"))\n",
        "print (\"Tổng tiền \", n, \" tháng sau: \", int(x*(1+0.007)**n) )"
      ],
      "metadata": {
        "colab": {
          "base_uri": "https://localhost:8080/"
        },
        "id": "vkAXnKOhWy9x",
        "outputId": "bbb6cccc-3378-464e-cf89-b946803ba114"
      },
      "execution_count": null,
      "outputs": [
        {
          "output_type": "stream",
          "name": "stdout",
          "text": [
            "Nhập số tiền: 7800\n",
            "Nhập số tháng: 48\n",
            "Tổng tiền  48  tháng sau:  10902\n"
          ]
        }
      ]
    },
    {
      "cell_type": "code",
      "source": [
        "#W4A13\n",
        "def sum_divisor(n):\n",
        "  sum = 0\n",
        "  for i in range (1, n):\n",
        "    if n % i == 0:\n",
        "      sum += i\n",
        "  return sum\n",
        "\n",
        "m, n = map(int,input(\"Nhập 2 số nguyên dương: \").split())\n",
        "\n",
        "if m == sum_divisor(n) and n == sum_divisor(m):\n",
        "  print (True)\n",
        "else:\n",
        "  print (False)"
      ],
      "metadata": {
        "id": "U00-5beKaMkK",
        "colab": {
          "base_uri": "https://localhost:8080/"
        },
        "outputId": "493e4d73-a051-473f-dab7-41c1b0f61cbf"
      },
      "execution_count": 7,
      "outputs": [
        {
          "output_type": "stream",
          "name": "stdout",
          "text": [
            "Nhập 2 số nguyên dương: 220 284\n",
            "True\n"
          ]
        }
      ]
    },
    {
      "cell_type": "code",
      "source": [
        "#W4A14\n",
        "m, n = map(int,input(\"Nhập 2 số nguyên dương: \").split())\n",
        "max_divisor = 0\n",
        "\n",
        "for i in range (1, m+1):\n",
        "  if m % i == 0 and n % i == 0 and max_divisor < i:\n",
        "    max_divisor = i\n",
        "\n",
        "print (max_divisor)"
      ],
      "metadata": {
        "colab": {
          "base_uri": "https://localhost:8080/"
        },
        "id": "96R_HFl8NP8v",
        "outputId": "1a3bd4b6-5d5a-4fcb-d5a8-2a638fd4919a"
      },
      "execution_count": 11,
      "outputs": [
        {
          "output_type": "stream",
          "name": "stdout",
          "text": [
            "Nhập 2 số nguyên dương: 15 42\n",
            "3\n"
          ]
        }
      ]
    },
    {
      "cell_type": "code",
      "source": [
        "#W4A15\n",
        "m = int(input(\"Nhập tổng số con: \"))\n",
        "n = int(input(\"Nhập tổng số chân: \"))\n",
        "ga = 0\n",
        "cho = 0\n",
        "found = False\n",
        "\n",
        "for i in range (1, m+1):\n",
        "  ga = i\n",
        "  cho = m - i\n",
        "  if 2*ga + 4*cho == n:\n",
        "    print (ga, cho)\n",
        "    found = True\n",
        "    break\n",
        "if not found:\n",
        "  print (\"Invalid\")"
      ],
      "metadata": {
        "colab": {
          "base_uri": "https://localhost:8080/"
        },
        "id": "g9i3OUTxOmSz",
        "outputId": "9155beba-1cd5-4cbb-a6c6-a97482243159"
      },
      "execution_count": 23,
      "outputs": [
        {
          "output_type": "stream",
          "name": "stdout",
          "text": [
            "Nhập tổng số con: 36\n",
            "Nhập tổng số chân: 100\n",
            "22 14\n"
          ]
        }
      ]
    },
    {
      "cell_type": "code",
      "source": [
        "#W4A16\n",
        "for i in range (0, 100):\n",
        "  if i % 3 == 0 and i % 2 == 0:\n",
        "    print (i, end = \" \")"
      ],
      "metadata": {
        "colab": {
          "base_uri": "https://localhost:8080/"
        },
        "id": "smtx9WgqVbqD",
        "outputId": "4d7c53b4-65f1-445e-8217-8333230fae7f"
      },
      "execution_count": 25,
      "outputs": [
        {
          "output_type": "stream",
          "name": "stdout",
          "text": [
            "0 6 12 18 24 30 36 42 48 54 60 66 72 78 84 90 96 "
          ]
        }
      ]
    },
    {
      "cell_type": "code",
      "source": [
        "#W4A17\n",
        "a = int(input(\"Nhập số nguyên dương: \"))\n",
        "\n",
        "for i in range (1, 11):\n",
        "  print (a, \"x\", i, \"=\", a*i)"
      ],
      "metadata": {
        "colab": {
          "base_uri": "https://localhost:8080/"
        },
        "id": "xwwOdjwhWiwT",
        "outputId": "46ae6107-511e-4787-f772-cef47aaea451"
      },
      "execution_count": 26,
      "outputs": [
        {
          "output_type": "stream",
          "name": "stdout",
          "text": [
            "Nhập số nguyên dương: 3\n",
            "3 x 1 = 3\n",
            "3 x 2 = 6\n",
            "3 x 3 = 9\n",
            "3 x 4 = 12\n",
            "3 x 5 = 15\n",
            "3 x 6 = 18\n",
            "3 x 7 = 21\n",
            "3 x 8 = 24\n",
            "3 x 9 = 27\n",
            "3 x 10 = 30\n"
          ]
        }
      ]
    },
    {
      "cell_type": "code",
      "source": [
        "#W4A18\n",
        "a, b = map(int,input(\"Nhập 2 số nguyên dương: \").split())\n",
        "\n",
        "for i in range (1, a+1):\n",
        "  if a % i == 0 and b % i == 0:\n",
        "    print (i, end = \" \")"
      ],
      "metadata": {
        "colab": {
          "base_uri": "https://localhost:8080/"
        },
        "id": "ckac8w6bXgwi",
        "outputId": "df3b487c-7d73-4a5c-dacb-6b97d130ee3d"
      },
      "execution_count": 27,
      "outputs": [
        {
          "output_type": "stream",
          "name": "stdout",
          "text": [
            "Nhập 2 số nguyên dương: 18 12\n",
            "1 2 3 6 "
          ]
        }
      ]
    },
    {
      "cell_type": "code",
      "source": [
        "#W4A19\n",
        "n = int(input(\"Nhập số nguyên dương: \"))\n",
        "\n",
        "for i in range (1, n+1):\n",
        "  if i % 2 == 0:\n",
        "    print (i, end = \" \")"
      ],
      "metadata": {
        "colab": {
          "base_uri": "https://localhost:8080/"
        },
        "id": "Nf0l_P0_YIoq",
        "outputId": "016b7d09-d55d-464e-85df-d101e4ca1fbb"
      },
      "execution_count": 37,
      "outputs": [
        {
          "output_type": "stream",
          "name": "stdout",
          "text": [
            "Nhập số nguyên dương: 9\n",
            "2 4 6 8 "
          ]
        }
      ]
    },
    {
      "cell_type": "code",
      "source": [
        "#W4A20\n",
        "n = int(input(\"Nhập số nguyên dương: \"))\n",
        "found = False\n",
        "\n",
        "for i in range (1, n+1):\n",
        "  if n == 2 ** i:\n",
        "    found = True\n",
        "    print (found)\n",
        "    break\n",
        "\n",
        "if not found:\n",
        "  print (found)"
      ],
      "metadata": {
        "colab": {
          "base_uri": "https://localhost:8080/"
        },
        "id": "chDJ20Q_aLWz",
        "outputId": "abac80ca-d637-403a-da84-0495559780e5"
      },
      "execution_count": 40,
      "outputs": [
        {
          "output_type": "stream",
          "name": "stdout",
          "text": [
            "Nhập số nguyên dương: 12\n",
            "False\n"
          ]
        }
      ]
    },
    {
      "cell_type": "code",
      "source": [
        "#W4A21\n",
        "n = int(input(\"Nhập số nguyên dương: \"))\n",
        "sum = 0\n",
        "\n",
        "while n > 0:\n",
        "  sum += n % 10\n",
        "  n //= 10\n",
        "\n",
        "print (sum)"
      ],
      "metadata": {
        "colab": {
          "base_uri": "https://localhost:8080/"
        },
        "id": "B1hW-zD1bWJC",
        "outputId": "1817b1a9-73be-4d17-eeb1-7177335816bd"
      },
      "execution_count": 1,
      "outputs": [
        {
          "output_type": "stream",
          "name": "stdout",
          "text": [
            "Nhập số nguyên dương: 456\n",
            "15\n"
          ]
        }
      ]
    },
    {
      "cell_type": "code",
      "source": [
        "#W4A22\n",
        "n = int(input(\"Nhập số nguyên dương: \"))\n",
        "even = 0\n",
        "odd = 0\n",
        "\n",
        "while n > 0:\n",
        "  if (n % 10) % 2 == 0:\n",
        "    even += 1\n",
        "    n //= 10\n",
        "  else:\n",
        "    odd += 1\n",
        "    n //= 10\n",
        "\n",
        "print (even, \"chữ số chẵn,\", odd, \"chữ số lẻ\")"
      ],
      "metadata": {
        "colab": {
          "base_uri": "https://localhost:8080/"
        },
        "id": "FAKS8IjIoPtX",
        "outputId": "ab466ebb-225f-4274-84d6-cda3a5dc2180"
      },
      "execution_count": 3,
      "outputs": [
        {
          "output_type": "stream",
          "name": "stdout",
          "text": [
            "Nhập số nguyên dương: 472\n",
            "2 chữ số chẵn, 1 chữ số lẻ\n"
          ]
        }
      ]
    },
    {
      "cell_type": "code",
      "source": [
        "#W4A23\n",
        "def sum(n):\n",
        "  sum = 0\n",
        "  for i in range (1, n+1):\n",
        "    sum += i\n",
        "  return sum\n",
        "\n",
        "n = int(input(\"Nhập số nguyên dương: \"))\n",
        "k = 0\n",
        "\n",
        "while sum(k) < n:\n",
        "  k += 1\n",
        "\n",
        "print (k-1)"
      ],
      "metadata": {
        "colab": {
          "base_uri": "https://localhost:8080/"
        },
        "id": "khzdeNq7qUln",
        "outputId": "74905f60-5b54-4175-e5d1-8b618cf0e568"
      },
      "execution_count": 8,
      "outputs": [
        {
          "output_type": "stream",
          "name": "stdout",
          "text": [
            "Nhập số nguyên dương: 16\n",
            "5\n"
          ]
        }
      ]
    },
    {
      "cell_type": "code",
      "source": [
        "#W4A24\n",
        "def sum(n):\n",
        "  sum = 0\n",
        "  for i in range (1, n+1):\n",
        "    sum += (1/i)\n",
        "  return sum\n",
        "\n",
        "a = int(input(\"Nhập số nguyên dương: \"))\n",
        "n = 0\n",
        "\n",
        "while sum(n) < a:\n",
        "  n += 1\n",
        "\n",
        "print (n)"
      ],
      "metadata": {
        "colab": {
          "base_uri": "https://localhost:8080/"
        },
        "id": "DUERfxDZsTof",
        "outputId": "2e028e8f-122e-4ef3-d20f-83da7b14d741"
      },
      "execution_count": 11,
      "outputs": [
        {
          "output_type": "stream",
          "name": "stdout",
          "text": [
            "Nhập số nguyên dương: 2\n",
            "4\n"
          ]
        }
      ]
    },
    {
      "cell_type": "code",
      "source": [
        "#W4A25\n",
        "day_so = list(map(int,input(\"Nhập dãy số: \").split()))\n",
        "\n",
        "if -1 in day_so:\n",
        "  index = day_so.index(-1)\n",
        "  day_so = day_so[:index]\n",
        "\n",
        "print (\"Số lớn nhất:\", max(day_so))\n",
        "print (\"Số nhỏ nhất:\", min(day_so))"
      ],
      "metadata": {
        "colab": {
          "base_uri": "https://localhost:8080/"
        },
        "id": "RQHYfykctbr4",
        "outputId": "c6eddf50-e32e-44cc-f0c0-682588d41afe"
      },
      "execution_count": 14,
      "outputs": [
        {
          "output_type": "stream",
          "name": "stdout",
          "text": [
            "Nhập dãy số: 5 6 -4 -2 8 -1 9 7\n",
            "Số lớn nhất: 8\n",
            "Số nhỏ nhất: -4\n"
          ]
        }
      ]
    },
    {
      "cell_type": "code",
      "source": [
        "#W4A26\n",
        "a = int(input(\"Nhập số nguyên dương: \"))\n",
        "m = 0\n",
        "n = 1\n",
        "\n",
        "while n < a:\n",
        "  m, n = n, m + n\n",
        "\n",
        "print (m)"
      ],
      "metadata": {
        "colab": {
          "base_uri": "https://localhost:8080/"
        },
        "id": "L1KW1l18xsMR",
        "outputId": "71bc29e5-2c20-4742-cad3-94c79b82bf0a"
      },
      "execution_count": 16,
      "outputs": [
        {
          "output_type": "stream",
          "name": "stdout",
          "text": [
            "Nhập số nguyên dương: 15\n",
            "13\n"
          ]
        }
      ]
    },
    {
      "cell_type": "code",
      "source": [
        "#W4A27\n",
        "chuoi = input(\"Nhập chuỗi: \")\n",
        "so_tu = 0\n",
        "\n",
        "for i in chuoi:\n",
        "  if i == \" \":\n",
        "    so_tu += 1\n",
        "\n",
        "print (so_tu + 1)"
      ],
      "metadata": {
        "colab": {
          "base_uri": "https://localhost:8080/"
        },
        "id": "oDBgSPAz2uFm",
        "outputId": "6a998aee-0537-4898-bd22-68fb2f3f6407"
      },
      "execution_count": 18,
      "outputs": [
        {
          "output_type": "stream",
          "name": "stdout",
          "text": [
            "Nhập chuỗi: Ngày nào còn say mình có thấy nhớ về em\n",
            "10\n"
          ]
        }
      ]
    },
    {
      "cell_type": "code",
      "source": [
        "#W4A28\n",
        "chuoi = input(\"Nhập chuỗi: \")\n",
        "index = chuoi.index(\" \")\n",
        "print (chuoi[:index])"
      ],
      "metadata": {
        "colab": {
          "base_uri": "https://localhost:8080/"
        },
        "id": "SwHiUTx35LWs",
        "outputId": "d6f703a5-9327-43b0-f195-6dc71b310dae"
      },
      "execution_count": 23,
      "outputs": [
        {
          "output_type": "stream",
          "name": "stdout",
          "text": [
            "Nhập chuỗi: Tại vì sao mình cố lấy cớ để quên\n",
            "Tại\n"
          ]
        }
      ]
    },
    {
      "cell_type": "code",
      "source": [
        "#W4A29\n",
        "a, b, c = input(\"Nhập 3 số nguyên: \").split(\",\")\n",
        "print (int(a) + int(b) + int(c))"
      ],
      "metadata": {
        "colab": {
          "base_uri": "https://localhost:8080/"
        },
        "id": "19kJJwAm6Gh2",
        "outputId": "3e3677f7-f03d-4b08-a06a-0c65ca89c4c9"
      },
      "execution_count": 34,
      "outputs": [
        {
          "output_type": "stream",
          "name": "stdout",
          "text": [
            "Nhập 3 số nguyên: 3, 12, 15\n",
            "30\n"
          ]
        }
      ]
    },
    {
      "cell_type": "code",
      "source": [
        "#W4A30\n",
        "chuoi = input(\"Nhập chuỗi: \")\n",
        "in_hoa = 0\n",
        "in_thuong = 0\n",
        "so = 0\n",
        "\n",
        "for i in range(len(chuoi)):\n",
        "  if chuoi[i].isupper():\n",
        "    in_hoa += 1\n",
        "  elif chuoi[i].islower():\n",
        "    in_thuong += 1\n",
        "  elif chuoi[i].isdigit():\n",
        "    so += 1\n",
        "\n",
        "print(\"Số chữ in hoa:\", in_hoa)\n",
        "print(\"Số chữ in thường:\", in_thuong)\n",
        "print(\"Số chữ số:\", so)"
      ],
      "metadata": {
        "colab": {
          "base_uri": "https://localhost:8080/"
        },
        "id": "LPOPxhLg7Ayd",
        "outputId": "2344f582-f28c-4ca6-c6ca-683adfcdee59"
      },
      "execution_count": 30,
      "outputs": [
        {
          "output_type": "stream",
          "name": "stdout",
          "text": [
            "Nhập chuỗi: Tk28BGdg3\n",
            "Số chữ in hoa: 3\n",
            "Số chữ in thường: 3\n",
            "Số chữ số: 3\n"
          ]
        }
      ]
    },
    {
      "cell_type": "code",
      "source": [
        "#W4A31\n",
        "chuoi = input(\"Nhập chuỗi: \")\n",
        "sum = 0\n",
        "\n",
        "for i in range(len(chuoi)):\n",
        "  if chuoi[i].isdigit():\n",
        "    sum += int(chuoi[i])\n",
        "\n",
        "print (sum)"
      ],
      "metadata": {
        "colab": {
          "base_uri": "https://localhost:8080/"
        },
        "id": "dPGr1LPw8b1d",
        "outputId": "8139e37b-d7ed-4dbe-a5d0-7c63f65807ba"
      },
      "execution_count": 33,
      "outputs": [
        {
          "output_type": "stream",
          "name": "stdout",
          "text": [
            "Nhập chuỗi: abd45ecf47wde3s1\n",
            "24\n"
          ]
        }
      ]
    },
    {
      "cell_type": "code",
      "source": [
        "#W4A32\n",
        "mat_khau = input(\"Nhập mật khẩu: \")\n",
        "chu_hoa = False\n",
        "chu_thuong = False\n",
        "so = False\n",
        "ky_tu_dac_biet = False\n",
        "\n",
        "for i in range(len(mat_khau)):\n",
        "  if mat_khau[i].isupper():\n",
        "    chu_hoa = True\n",
        "  elif mat_khau[i].islower():\n",
        "    chu_thuong = True\n",
        "  elif mat_khau[i].isdigit():\n",
        "    so = True\n",
        "  elif not mat_khau[i].isalnum():\n",
        "    ky_tu_dac_biet = True\n",
        "\n",
        "if (len(mat_khau) > 6 and chu_hoa and chu_thuong and so and ky_tu_dac_biet):\n",
        "    print(\"Mật khẩu mạnh\")\n",
        "else:\n",
        "    print(\"Mật khẩu yếu\")"
      ],
      "metadata": {
        "colab": {
          "base_uri": "https://localhost:8080/"
        },
        "id": "jNGEuoIB9HE-",
        "outputId": "3734be02-d3cc-45d8-dbd5-63b124acea09"
      },
      "execution_count": 36,
      "outputs": [
        {
          "output_type": "stream",
          "name": "stdout",
          "text": [
            "Nhập mật khẩu: Abc123!?\n",
            "Mật khẩu mạnh\n"
          ]
        }
      ]
    },
    {
      "cell_type": "code",
      "source": [
        "#W4A33\n",
        "n = int(input(\"Nhập số nguyên dương: \"))\n",
        "chuoi = format(n, ',').replace(',', '.')\n",
        "print(chuoi)"
      ],
      "metadata": {
        "colab": {
          "base_uri": "https://localhost:8080/"
        },
        "id": "ddCrHjOrAwiG",
        "outputId": "986f23e0-8df6-4c87-f2ed-08beef81d64a"
      },
      "execution_count": 38,
      "outputs": [
        {
          "output_type": "stream",
          "name": "stdout",
          "text": [
            "Nhập số nguyên dương: 375469485\n",
            "375.469.485\n"
          ]
        }
      ]
    },
    {
      "cell_type": "code",
      "source": [
        "#W4A34\n",
        "a = input(\"Nhập chuỗi a: \")\n",
        "b = input(\"Nhập chuỗi b: \")\n",
        "ket_qua = \"\"\n",
        "i = 0\n",
        "\n",
        "while i < len(a):\n",
        "  if a[i:i+len(b)] == b:\n",
        "    i += len(b)\n",
        "  else:\n",
        "    ket_qua += a[i]\n",
        "    i += 1\n",
        "\n",
        "print(ket_qua)"
      ],
      "metadata": {
        "colab": {
          "base_uri": "https://localhost:8080/"
        },
        "id": "AfN5TuLHDeId",
        "outputId": "986e59c7-53bc-4e21-b01d-223567cde466"
      },
      "execution_count": 40,
      "outputs": [
        {
          "output_type": "stream",
          "name": "stdout",
          "text": [
            "Nhập chuỗi a: Xin chào mọi người!\n",
            "Nhập chuỗi b: Xin chào\n",
            " mọi người!\n"
          ]
        }
      ]
    }
  ]
}