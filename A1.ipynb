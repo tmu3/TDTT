{
  "nbformat": 4,
  "nbformat_minor": 0,
  "metadata": {
    "colab": {
      "provenance": []
    },
    "kernelspec": {
      "name": "python3",
      "display_name": "Python 3"
    },
    "language_info": {
      "name": "python"
    }
  },
  "cells": [
    {
      "cell_type": "code",
      "execution_count": 1,
      "metadata": {
        "colab": {
          "base_uri": "https://localhost:8080/"
        },
        "id": "UW7jqk9kAx9M",
        "outputId": "24de3366-5ced-45f9-883f-4827f6930028"
      },
      "outputs": [
        {
          "output_type": "stream",
          "name": "stdout",
          "text": [
            "Hello World!\n"
          ]
        }
      ],
      "source": [
        "#W2A1\n",
        "print (\"Hello World!\")"
      ]
    },
    {
      "cell_type": "code",
      "source": [
        "#W2A2\n",
        "name = input (\"Tên bạn là gì? \")\n",
        "print (f\"Xin chào {name}\")"
      ],
      "metadata": {
        "colab": {
          "base_uri": "https://localhost:8080/"
        },
        "id": "YNY-fImNDbRE",
        "outputId": "72a6a305-8c5e-432b-a7bf-b930c7bd42bc"
      },
      "execution_count": 2,
      "outputs": [
        {
          "output_type": "stream",
          "name": "stdout",
          "text": [
            "Tên bạn là gì? Tùng\n",
            "Xin chào Tùng\n"
          ]
        }
      ]
    },
    {
      "cell_type": "code",
      "source": [
        "#W2A10\n",
        "a, b, c = input (\"Tên 3 bạn là gì? \").split()\n",
        "print (\"Hi\", c, \",\", b, \"and\", a)"
      ],
      "metadata": {
        "colab": {
          "base_uri": "https://localhost:8080/"
        },
        "id": "4Z138w4GEM4v",
        "outputId": "2ff04420-e1b5-4505-cc14-3944d2fd4e33"
      },
      "execution_count": 11,
      "outputs": [
        {
          "output_type": "stream",
          "name": "stdout",
          "text": [
            "Tên 3 bạn là gì? An Bình Chi\n",
            "Hi Chi , Bình and An\n"
          ]
        }
      ]
    },
    {
      "cell_type": "code",
      "source": [
        "#W2A16\n",
        "print (\"Spring\\nSummer\\nAutumn\\nWinter\")"
      ],
      "metadata": {
        "colab": {
          "base_uri": "https://localhost:8080/"
        },
        "id": "jAlCZVZKFf44",
        "outputId": "02a88fa1-7b89-4fa0-d551-2e04a1690371"
      },
      "execution_count": 13,
      "outputs": [
        {
          "output_type": "stream",
          "name": "stdout",
          "text": [
            "Spring\n",
            "Summer\n",
            "Autumn\n",
            "Winter\n"
          ]
        }
      ]
    },
    {
      "cell_type": "code",
      "source": [
        "#W2A17\n",
        "for i in range (1,6,2):\n",
        "  print (\"*\"*i)"
      ],
      "metadata": {
        "colab": {
          "base_uri": "https://localhost:8080/"
        },
        "id": "BKsMKpEyF44O",
        "outputId": "d75334be-8422-4458-b28f-6739c3a72dfd"
      },
      "execution_count": 17,
      "outputs": [
        {
          "output_type": "stream",
          "name": "stdout",
          "text": [
            "*\n",
            "***\n",
            "*****\n"
          ]
        }
      ]
    },
    {
      "cell_type": "code",
      "source": [
        "#W2A18\n",
        "print (\"### # #   ### ###\")\n",
        "print (\" #  #  #   #   # \")\n",
        "print (\" #  #   #  #   # \")\n",
        "print (\" #  #  #   #   # \")\n",
        "print (\" #  # #    #   # \")"
      ],
      "metadata": {
        "colab": {
          "base_uri": "https://localhost:8080/"
        },
        "id": "QRZLaWjjJeRM",
        "outputId": "b38974a5-7ebc-400e-aefb-6cde9c116c72"
      },
      "execution_count": 26,
      "outputs": [
        {
          "output_type": "stream",
          "name": "stdout",
          "text": [
            "### # #   ### ###\n",
            " #  #  #   #   # \n",
            " #  #   #  #   # \n",
            " #  #  #   #   # \n",
            " #  # #    #   # \n"
          ]
        }
      ]
    },
    {
      "cell_type": "code",
      "source": [
        "#W2A19\n",
        "print (\"Monday\\nTuesday\\nWednesday\\nThursday\\nFriday\\nSaturday\\nSunday\")"
      ],
      "metadata": {
        "colab": {
          "base_uri": "https://localhost:8080/"
        },
        "id": "yw9qa-ecKCi-",
        "outputId": "6e901d33-aa65-4202-ba83-8c830004bd4b"
      },
      "execution_count": 27,
      "outputs": [
        {
          "output_type": "stream",
          "name": "stdout",
          "text": [
            "Monday\n",
            "Tuesday\n",
            "Wednesday\n",
            "Thursday\n",
            "Friday\n",
            "Saturday\n",
            "Sunday\n"
          ]
        }
      ]
    },
    {
      "cell_type": "code",
      "source": [
        "#W2A20\n",
        "print (\"January\\nFebruary\\nMarch\\nApril\\nMay\\nJune\\nJuly\\nAugust\\nSeptember\\nOctober\\nNovember\\nDecember\")"
      ],
      "metadata": {
        "colab": {
          "base_uri": "https://localhost:8080/"
        },
        "id": "F9GGhdMkKYn7",
        "outputId": "bfafbecd-09fb-4a66-85bb-8087e8e44e41"
      },
      "execution_count": 28,
      "outputs": [
        {
          "output_type": "stream",
          "name": "stdout",
          "text": [
            "January\n",
            "February\n",
            "March\n",
            "April\n",
            "May\n",
            "June\n",
            "July\n",
            "August\n",
            "September\n",
            "October\n",
            "November\n",
            "December\n"
          ]
        }
      ]
    },
    {
      "cell_type": "code",
      "source": [
        "#W2A21\n",
        "print (\"Hello, world\\n\"*10)"
      ],
      "metadata": {
        "colab": {
          "base_uri": "https://localhost:8080/"
        },
        "id": "HNH1pQ_KK0tt",
        "outputId": "457a8151-acf7-40bd-809d-444245fe840a"
      },
      "execution_count": 30,
      "outputs": [
        {
          "output_type": "stream",
          "name": "stdout",
          "text": [
            "Hello, world\n",
            "Hello, world\n",
            "Hello, world\n",
            "Hello, world\n",
            "Hello, world\n",
            "Hello, world\n",
            "Hello, world\n",
            "Hello, world\n",
            "Hello, world\n",
            "Hello, world\n",
            "\n"
          ]
        }
      ]
    }
  ]
}